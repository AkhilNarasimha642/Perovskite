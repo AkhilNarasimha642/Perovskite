{
 "cells": [
  {
   "cell_type": "code",
   "execution_count": 111,
   "metadata": {},
   "outputs": [],
   "source": [
    "import pandas as pd\n",
    "import sqlalchemy\n",
    "from sqlalchemy import create_engine\n",
    "import matplotlib.pyplot as plt\n",
    "%matplotlib inline\n",
    "import numpy as np\n",
    "\n",
    "from sklearn.model_selection import train_test_split\n",
    "from sklearn.kernel_ridge import KernelRidge\n",
    "from sklearn.metrics import mean_squared_error\n",
    "from sklearn import linear_model\n",
    "from sklearn.preprocessing import StandardScaler\n",
    "\n",
    "import itertools\n",
    "\n",
    "import statsmodels.api as sm\n"
   ]
  },
  {
   "cell_type": "code",
   "execution_count": 112,
   "metadata": {},
   "outputs": [],
   "source": [
    "engine = create_engine('sqlite:///cubic_perovskites.db')\n",
    "with engine.connect() as conn, conn.begin():\n",
    "    keyvalues = pd.read_sql_table('number_key_values', conn)\n",
    "    textvalues = pd.read_sql_table('text_key_values', conn)\n",
    "    keys = pd.read_sql_table('keys', conn)\n",
    "    systems = pd.read_sql_table('systems',conn)"
   ]
  },
  {
   "cell_type": "markdown",
   "metadata": {},
   "source": [
    "### The cell below return a dataframe for each variable"
   ]
  },
  {
   "cell_type": "code",
   "execution_count": 113,
   "metadata": {},
   "outputs": [],
   "source": [
    "CB_ind = keyvalues[(keyvalues.key=='CB_ind')]\n",
    "gllbsc_ind_gap = keyvalues[(keyvalues.key=='gllbsc_ind_gap')]\n",
    "CB_dir = keyvalues[(keyvalues.key=='CB_dir')]\n",
    "VB_dir = keyvalues[(keyvalues.key=='VB_dir')]\n",
    "VB_ind = keyvalues[(keyvalues.key=='VB_ind')]\n",
    "gllbsc_dir_gap = keyvalues[(keyvalues.key=='gllbsc_dir_gap')]\n",
    "heat_of_formation = keyvalues[(keyvalues.key=='heat_of_formation_all')]\n",
    "standard_energy = keyvalues[(keyvalues.key=='standard_energy')]\n"
   ]
  },
  {
   "cell_type": "markdown",
   "metadata": {},
   "source": [
    "### The cells below build a dataframe for all the values. \n",
    "id is the ID of the perovskite"
   ]
  },
  {
   "cell_type": "code",
   "execution_count": 114,
   "metadata": {},
   "outputs": [],
   "source": [
    "valuelist=[CB_dir,VB_dir,VB_ind,gllbsc_dir_gap,gllbsc_ind_gap,heat_of_formation,standard_energy]\n",
    "values = CB_ind\n",
    "for x in valuelist:\n",
    "    values = pd.merge(values,x,how='outer',on='id')"
   ]
  },
  {
   "cell_type": "code",
   "execution_count": 115,
   "metadata": {},
   "outputs": [],
   "source": [
    "values.set_index('id',inplace=True)"
   ]
  },
  {
   "cell_type": "code",
   "execution_count": 116,
   "metadata": {},
   "outputs": [],
   "source": [
    "values.columns=['key','CB_ind','key','CB_dir','key','VB_dir','key','VB_ind','key','gllbsc_dir_gap','key','gllbsc_ind_gap','key','heat_of_formation','key','standard_energy']"
   ]
  },
  {
   "cell_type": "code",
   "execution_count": 117,
   "metadata": {},
   "outputs": [],
   "source": [
    "values=values.drop(columns='key')"
   ]
  },
  {
   "cell_type": "markdown",
   "metadata": {},
   "source": [
    "### The cells below build dataframe for A_ion, B_ion and Anion, each dataframe contains the ion's electronegativity and first ionization energy\n",
    "\n",
    "anion's electronegativity and first ionization energy are calculated from average value of each atom"
   ]
  },
  {
   "cell_type": "code",
   "execution_count": 118,
   "metadata": {},
   "outputs": [],
   "source": [
    "A_ion = textvalues[(textvalues.key=='A_ion')]\n",
    "B_ion = textvalues[(textvalues.key=='B_ion')]\n",
    "anion = textvalues[(textvalues.key=='anion')]\n",
    "\n",
    "electroneg = pd.read_csv('electronegativity.csv')\n",
    "electroneg.columns = ['value', 'electronegativity']\n",
    "\n",
    "A_electroneg=pd.merge(A_ion,electroneg,how='left',on='value')\n",
    "B_electroneg=pd.merge(B_ion,electroneg,how='left',on='value')\n",
    "\n",
    "ionization=pd.read_excel('ionization energy.xlsx')\n",
    "A_values=pd.merge(A_electroneg,ionization,how='left',on='value')\n",
    "B_values=pd.merge(B_electroneg,ionization,how='left',on='value')\n",
    "\n",
    "Rmax = pd.read_excel('Rmax.xlsx')\n",
    "A_values = pd.merge(A_values,Rmax,how='left',on='value')\n",
    "B_values = pd.merge(B_values,Rmax,how='left',on='value')\n",
    "\n",
    "affinity = pd.read_excel('electron affinities.xlsx')\n",
    "A_values = pd.merge(A_values,affinity,how='left',on='value')\n",
    "B_values = pd.merge(B_values,affinity,how='left',on='value')"
   ]
  },
  {
   "cell_type": "code",
   "execution_count": 119,
   "metadata": {},
   "outputs": [],
   "source": [
    "A_values.columns=['key','A_ion','id','A_X','A_IE','A_s_R','A_p_R','A_d_R','A_aff']\n",
    "B_values.columns=['key','B_ion','id','B_X','B_IE','B_s_R','B_p_R','B_d_R','B_aff']\n"
   ]
  },
  {
   "cell_type": "code",
   "execution_count": 120,
   "metadata": {},
   "outputs": [],
   "source": [
    "cation_values=pd.merge(A_values,B_values,how='outer',on='id')\n"
   ]
  },
  {
   "cell_type": "code",
   "execution_count": 121,
   "metadata": {},
   "outputs": [
    {
     "data": {
      "text/html": [
       "<div>\n",
       "<style scoped>\n",
       "    .dataframe tbody tr th:only-of-type {\n",
       "        vertical-align: middle;\n",
       "    }\n",
       "\n",
       "    .dataframe tbody tr th {\n",
       "        vertical-align: top;\n",
       "    }\n",
       "\n",
       "    .dataframe thead th {\n",
       "        text-align: right;\n",
       "    }\n",
       "</style>\n",
       "<table border=\"1\" class=\"dataframe\">\n",
       "  <thead>\n",
       "    <tr style=\"text-align: right;\">\n",
       "      <th></th>\n",
       "      <th>key_x</th>\n",
       "      <th>A_ion</th>\n",
       "      <th>id</th>\n",
       "      <th>A_X</th>\n",
       "      <th>A_IE</th>\n",
       "      <th>A_s_R</th>\n",
       "      <th>A_p_R</th>\n",
       "      <th>A_d_R</th>\n",
       "      <th>A_aff</th>\n",
       "      <th>key_y</th>\n",
       "      <th>B_ion</th>\n",
       "      <th>B_X</th>\n",
       "      <th>B_IE</th>\n",
       "      <th>B_s_R</th>\n",
       "      <th>B_p_R</th>\n",
       "      <th>B_d_R</th>\n",
       "      <th>B_aff</th>\n",
       "    </tr>\n",
       "  </thead>\n",
       "  <tbody>\n",
       "    <tr>\n",
       "      <th>0</th>\n",
       "      <td>A_ion</td>\n",
       "      <td>Ti</td>\n",
       "      <td>1</td>\n",
       "      <td>1.54</td>\n",
       "      <td>6.82810</td>\n",
       "      <td>162.2</td>\n",
       "      <td>NaN</td>\n",
       "      <td>52.8</td>\n",
       "      <td>0.084000</td>\n",
       "      <td>B_ion</td>\n",
       "      <td>As</td>\n",
       "      <td>2.18</td>\n",
       "      <td>9.78860</td>\n",
       "      <td>88.5</td>\n",
       "      <td>106.6</td>\n",
       "      <td>25.4</td>\n",
       "      <td>0.804800</td>\n",
       "    </tr>\n",
       "    <tr>\n",
       "      <th>1</th>\n",
       "      <td>A_ion</td>\n",
       "      <td>K</td>\n",
       "      <td>2</td>\n",
       "      <td>0.82</td>\n",
       "      <td>4.34066</td>\n",
       "      <td>230.0</td>\n",
       "      <td>NaN</td>\n",
       "      <td>NaN</td>\n",
       "      <td>0.501459</td>\n",
       "      <td>B_ion</td>\n",
       "      <td>Sb</td>\n",
       "      <td>2.05</td>\n",
       "      <td>8.60840</td>\n",
       "      <td>106.5</td>\n",
       "      <td>126.6</td>\n",
       "      <td>44.7</td>\n",
       "      <td>1.047401</td>\n",
       "    </tr>\n",
       "    <tr>\n",
       "      <th>2</th>\n",
       "      <td>A_ion</td>\n",
       "      <td>Hg</td>\n",
       "      <td>3</td>\n",
       "      <td>2.00</td>\n",
       "      <td>10.43750</td>\n",
       "      <td>141.7</td>\n",
       "      <td>NaN</td>\n",
       "      <td>60.8</td>\n",
       "      <td>-0.520000</td>\n",
       "      <td>B_ion</td>\n",
       "      <td>Nb</td>\n",
       "      <td>1.60</td>\n",
       "      <td>6.75885</td>\n",
       "      <td>181.9</td>\n",
       "      <td>NaN</td>\n",
       "      <td>78.9</td>\n",
       "      <td>0.917400</td>\n",
       "    </tr>\n",
       "    <tr>\n",
       "      <th>3</th>\n",
       "      <td>A_ion</td>\n",
       "      <td>Bi</td>\n",
       "      <td>4</td>\n",
       "      <td>2.02</td>\n",
       "      <td>7.28560</td>\n",
       "      <td>114.4</td>\n",
       "      <td>136.1</td>\n",
       "      <td>54.2</td>\n",
       "      <td>0.942362</td>\n",
       "      <td>B_ion</td>\n",
       "      <td>Sb</td>\n",
       "      <td>2.05</td>\n",
       "      <td>8.60840</td>\n",
       "      <td>106.5</td>\n",
       "      <td>126.6</td>\n",
       "      <td>44.7</td>\n",
       "      <td>1.047401</td>\n",
       "    </tr>\n",
       "    <tr>\n",
       "      <th>4</th>\n",
       "      <td>A_ion</td>\n",
       "      <td>Na</td>\n",
       "      <td>5</td>\n",
       "      <td>0.93</td>\n",
       "      <td>5.13908</td>\n",
       "      <td>179.1</td>\n",
       "      <td>NaN</td>\n",
       "      <td>NaN</td>\n",
       "      <td>0.547926</td>\n",
       "      <td>B_ion</td>\n",
       "      <td>Ag</td>\n",
       "      <td>1.93</td>\n",
       "      <td>7.57620</td>\n",
       "      <td>153.2</td>\n",
       "      <td>NaN</td>\n",
       "      <td>54.7</td>\n",
       "      <td>1.304470</td>\n",
       "    </tr>\n",
       "  </tbody>\n",
       "</table>\n",
       "</div>"
      ],
      "text/plain": [
       "   key_x A_ion  id   A_X      A_IE  A_s_R  A_p_R  A_d_R     A_aff  key_y  \\\n",
       "0  A_ion    Ti   1  1.54   6.82810  162.2    NaN   52.8  0.084000  B_ion   \n",
       "1  A_ion     K   2  0.82   4.34066  230.0    NaN    NaN  0.501459  B_ion   \n",
       "2  A_ion    Hg   3  2.00  10.43750  141.7    NaN   60.8 -0.520000  B_ion   \n",
       "3  A_ion    Bi   4  2.02   7.28560  114.4  136.1   54.2  0.942362  B_ion   \n",
       "4  A_ion    Na   5  0.93   5.13908  179.1    NaN    NaN  0.547926  B_ion   \n",
       "\n",
       "  B_ion   B_X     B_IE  B_s_R  B_p_R  B_d_R     B_aff  \n",
       "0    As  2.18  9.78860   88.5  106.6   25.4  0.804800  \n",
       "1    Sb  2.05  8.60840  106.5  126.6   44.7  1.047401  \n",
       "2    Nb  1.60  6.75885  181.9    NaN   78.9  0.917400  \n",
       "3    Sb  2.05  8.60840  106.5  126.6   44.7  1.047401  \n",
       "4    Ag  1.93  7.57620  153.2    NaN   54.7  1.304470  "
      ]
     },
     "execution_count": 121,
     "metadata": {},
     "output_type": "execute_result"
    }
   ],
   "source": [
    "cation_values.head()"
   ]
  },
  {
   "cell_type": "code",
   "execution_count": 122,
   "metadata": {},
   "outputs": [
    {
     "data": {
      "text/html": [
       "<div>\n",
       "<style scoped>\n",
       "    .dataframe tbody tr th:only-of-type {\n",
       "        vertical-align: middle;\n",
       "    }\n",
       "\n",
       "    .dataframe tbody tr th {\n",
       "        vertical-align: top;\n",
       "    }\n",
       "\n",
       "    .dataframe thead th {\n",
       "        text-align: right;\n",
       "    }\n",
       "</style>\n",
       "<table border=\"1\" class=\"dataframe\">\n",
       "  <thead>\n",
       "    <tr style=\"text-align: right;\">\n",
       "      <th></th>\n",
       "      <th>electronegativity</th>\n",
       "      <th>first ionization energy</th>\n",
       "      <th>value</th>\n",
       "    </tr>\n",
       "  </thead>\n",
       "  <tbody>\n",
       "    <tr>\n",
       "      <th>0</th>\n",
       "      <td>3.04000</td>\n",
       "      <td>14.53414</td>\n",
       "      <td>N3</td>\n",
       "    </tr>\n",
       "    <tr>\n",
       "      <th>1</th>\n",
       "      <td>3.62000</td>\n",
       "      <td>14.88631</td>\n",
       "      <td>O2F</td>\n",
       "    </tr>\n",
       "    <tr>\n",
       "      <th>2</th>\n",
       "      <td>3.30666</td>\n",
       "      <td>13.92342</td>\n",
       "      <td>O2N</td>\n",
       "    </tr>\n",
       "    <tr>\n",
       "      <th>3</th>\n",
       "      <td>3.15333</td>\n",
       "      <td>12.53204</td>\n",
       "      <td>O2S</td>\n",
       "    </tr>\n",
       "    <tr>\n",
       "      <th>4</th>\n",
       "      <td>3.44000</td>\n",
       "      <td>13.61806</td>\n",
       "      <td>O3</td>\n",
       "    </tr>\n",
       "    <tr>\n",
       "      <th>5</th>\n",
       "      <td>3.48666</td>\n",
       "      <td>15.19167</td>\n",
       "      <td>OFN</td>\n",
       "    </tr>\n",
       "    <tr>\n",
       "      <th>6</th>\n",
       "      <td>3.17333</td>\n",
       "      <td>14.22878</td>\n",
       "      <td>ON2</td>\n",
       "    </tr>\n",
       "  </tbody>\n",
       "</table>\n",
       "</div>"
      ],
      "text/plain": [
       "   electronegativity  first ionization energy value\n",
       "0            3.04000                 14.53414    N3\n",
       "1            3.62000                 14.88631   O2F\n",
       "2            3.30666                 13.92342   O2N\n",
       "3            3.15333                 12.53204   O2S\n",
       "4            3.44000                 13.61806    O3\n",
       "5            3.48666                 15.19167   OFN\n",
       "6            3.17333                 14.22878   ON2"
      ]
     },
     "execution_count": 122,
     "metadata": {},
     "output_type": "execute_result"
    }
   ],
   "source": [
    "anion_electronegativity=[3.04,3.62,3.30666,3.15333,3.44,3.48666,3.17333]\n",
    "#this is calculated from the average of atom's electronegativity\n",
    "anion_ionization=[14.53414,14.88631,13.92342,12.53204,13.61806,15.19167,14.22878]\n",
    "#this is calculated from the average of atom's ionization\n",
    "anion_data = pd.DataFrame({'value':['N3','O2F','O2N','O2S','O3','OFN','ON2'],'electronegativity':anion_electronegativity,'first ionization energy':anion_ionization})\n",
    "anion_data"
   ]
  },
  {
   "cell_type": "code",
   "execution_count": 123,
   "metadata": {},
   "outputs": [],
   "source": [
    "anion_values=pd.merge(anion,anion_data,how='left',on='value')"
   ]
  },
  {
   "cell_type": "code",
   "execution_count": 124,
   "metadata": {},
   "outputs": [],
   "source": [
    "anion_values.columns=['key','anion','id','anion_X','anion_IE']"
   ]
  },
  {
   "cell_type": "code",
   "execution_count": 125,
   "metadata": {},
   "outputs": [],
   "source": [
    "perovskite_values=pd.merge(anion_values,cation_values,how='outer',on='id')"
   ]
  },
  {
   "cell_type": "code",
   "execution_count": 126,
   "metadata": {},
   "outputs": [
    {
     "data": {
      "text/html": [
       "<div>\n",
       "<style scoped>\n",
       "    .dataframe tbody tr th:only-of-type {\n",
       "        vertical-align: middle;\n",
       "    }\n",
       "\n",
       "    .dataframe tbody tr th {\n",
       "        vertical-align: top;\n",
       "    }\n",
       "\n",
       "    .dataframe thead th {\n",
       "        text-align: right;\n",
       "    }\n",
       "</style>\n",
       "<table border=\"1\" class=\"dataframe\">\n",
       "  <thead>\n",
       "    <tr style=\"text-align: right;\">\n",
       "      <th></th>\n",
       "      <th>key</th>\n",
       "      <th>anion</th>\n",
       "      <th>id</th>\n",
       "      <th>anion_X</th>\n",
       "      <th>anion_IE</th>\n",
       "      <th>key_x</th>\n",
       "      <th>A_ion</th>\n",
       "      <th>A_X</th>\n",
       "      <th>A_IE</th>\n",
       "      <th>A_s_R</th>\n",
       "      <th>...</th>\n",
       "      <th>A_d_R</th>\n",
       "      <th>A_aff</th>\n",
       "      <th>key_y</th>\n",
       "      <th>B_ion</th>\n",
       "      <th>B_X</th>\n",
       "      <th>B_IE</th>\n",
       "      <th>B_s_R</th>\n",
       "      <th>B_p_R</th>\n",
       "      <th>B_d_R</th>\n",
       "      <th>B_aff</th>\n",
       "    </tr>\n",
       "  </thead>\n",
       "  <tbody>\n",
       "    <tr>\n",
       "      <th>0</th>\n",
       "      <td>anion</td>\n",
       "      <td>O2N</td>\n",
       "      <td>1</td>\n",
       "      <td>3.30666</td>\n",
       "      <td>13.92342</td>\n",
       "      <td>A_ion</td>\n",
       "      <td>Ti</td>\n",
       "      <td>1.54</td>\n",
       "      <td>6.82810</td>\n",
       "      <td>162.2</td>\n",
       "      <td>...</td>\n",
       "      <td>52.8</td>\n",
       "      <td>0.084000</td>\n",
       "      <td>B_ion</td>\n",
       "      <td>As</td>\n",
       "      <td>2.18</td>\n",
       "      <td>9.78860</td>\n",
       "      <td>88.5</td>\n",
       "      <td>106.6</td>\n",
       "      <td>25.4</td>\n",
       "      <td>0.804800</td>\n",
       "    </tr>\n",
       "    <tr>\n",
       "      <th>1</th>\n",
       "      <td>anion</td>\n",
       "      <td>O2N</td>\n",
       "      <td>2</td>\n",
       "      <td>3.30666</td>\n",
       "      <td>13.92342</td>\n",
       "      <td>A_ion</td>\n",
       "      <td>K</td>\n",
       "      <td>0.82</td>\n",
       "      <td>4.34066</td>\n",
       "      <td>230.0</td>\n",
       "      <td>...</td>\n",
       "      <td>NaN</td>\n",
       "      <td>0.501459</td>\n",
       "      <td>B_ion</td>\n",
       "      <td>Sb</td>\n",
       "      <td>2.05</td>\n",
       "      <td>8.60840</td>\n",
       "      <td>106.5</td>\n",
       "      <td>126.6</td>\n",
       "      <td>44.7</td>\n",
       "      <td>1.047401</td>\n",
       "    </tr>\n",
       "    <tr>\n",
       "      <th>2</th>\n",
       "      <td>anion</td>\n",
       "      <td>O2N</td>\n",
       "      <td>3</td>\n",
       "      <td>3.30666</td>\n",
       "      <td>13.92342</td>\n",
       "      <td>A_ion</td>\n",
       "      <td>Hg</td>\n",
       "      <td>2.00</td>\n",
       "      <td>10.43750</td>\n",
       "      <td>141.7</td>\n",
       "      <td>...</td>\n",
       "      <td>60.8</td>\n",
       "      <td>-0.520000</td>\n",
       "      <td>B_ion</td>\n",
       "      <td>Nb</td>\n",
       "      <td>1.60</td>\n",
       "      <td>6.75885</td>\n",
       "      <td>181.9</td>\n",
       "      <td>NaN</td>\n",
       "      <td>78.9</td>\n",
       "      <td>0.917400</td>\n",
       "    </tr>\n",
       "    <tr>\n",
       "      <th>3</th>\n",
       "      <td>anion</td>\n",
       "      <td>O2N</td>\n",
       "      <td>4</td>\n",
       "      <td>3.30666</td>\n",
       "      <td>13.92342</td>\n",
       "      <td>A_ion</td>\n",
       "      <td>Bi</td>\n",
       "      <td>2.02</td>\n",
       "      <td>7.28560</td>\n",
       "      <td>114.4</td>\n",
       "      <td>...</td>\n",
       "      <td>54.2</td>\n",
       "      <td>0.942362</td>\n",
       "      <td>B_ion</td>\n",
       "      <td>Sb</td>\n",
       "      <td>2.05</td>\n",
       "      <td>8.60840</td>\n",
       "      <td>106.5</td>\n",
       "      <td>126.6</td>\n",
       "      <td>44.7</td>\n",
       "      <td>1.047401</td>\n",
       "    </tr>\n",
       "    <tr>\n",
       "      <th>4</th>\n",
       "      <td>anion</td>\n",
       "      <td>O2N</td>\n",
       "      <td>5</td>\n",
       "      <td>3.30666</td>\n",
       "      <td>13.92342</td>\n",
       "      <td>A_ion</td>\n",
       "      <td>Na</td>\n",
       "      <td>0.93</td>\n",
       "      <td>5.13908</td>\n",
       "      <td>179.1</td>\n",
       "      <td>...</td>\n",
       "      <td>NaN</td>\n",
       "      <td>0.547926</td>\n",
       "      <td>B_ion</td>\n",
       "      <td>Ag</td>\n",
       "      <td>1.93</td>\n",
       "      <td>7.57620</td>\n",
       "      <td>153.2</td>\n",
       "      <td>NaN</td>\n",
       "      <td>54.7</td>\n",
       "      <td>1.304470</td>\n",
       "    </tr>\n",
       "  </tbody>\n",
       "</table>\n",
       "<p>5 rows × 21 columns</p>\n",
       "</div>"
      ],
      "text/plain": [
       "     key anion  id  anion_X  anion_IE  key_x A_ion   A_X      A_IE  A_s_R  \\\n",
       "0  anion   O2N   1  3.30666  13.92342  A_ion    Ti  1.54   6.82810  162.2   \n",
       "1  anion   O2N   2  3.30666  13.92342  A_ion     K  0.82   4.34066  230.0   \n",
       "2  anion   O2N   3  3.30666  13.92342  A_ion    Hg  2.00  10.43750  141.7   \n",
       "3  anion   O2N   4  3.30666  13.92342  A_ion    Bi  2.02   7.28560  114.4   \n",
       "4  anion   O2N   5  3.30666  13.92342  A_ion    Na  0.93   5.13908  179.1   \n",
       "\n",
       "     ...     A_d_R     A_aff  key_y B_ion   B_X     B_IE  B_s_R  B_p_R  B_d_R  \\\n",
       "0    ...      52.8  0.084000  B_ion    As  2.18  9.78860   88.5  106.6   25.4   \n",
       "1    ...       NaN  0.501459  B_ion    Sb  2.05  8.60840  106.5  126.6   44.7   \n",
       "2    ...      60.8 -0.520000  B_ion    Nb  1.60  6.75885  181.9    NaN   78.9   \n",
       "3    ...      54.2  0.942362  B_ion    Sb  2.05  8.60840  106.5  126.6   44.7   \n",
       "4    ...       NaN  0.547926  B_ion    Ag  1.93  7.57620  153.2    NaN   54.7   \n",
       "\n",
       "      B_aff  \n",
       "0  0.804800  \n",
       "1  1.047401  \n",
       "2  0.917400  \n",
       "3  1.047401  \n",
       "4  1.304470  \n",
       "\n",
       "[5 rows x 21 columns]"
      ]
     },
     "execution_count": 126,
     "metadata": {},
     "output_type": "execute_result"
    }
   ],
   "source": [
    "perovskite_values.head()"
   ]
  },
  {
   "cell_type": "markdown",
   "metadata": {},
   "source": [
    "### The cell below get two dataframe: mass and volume\n",
    "id is the ID of perovskite"
   ]
  },
  {
   "cell_type": "code",
   "execution_count": 127,
   "metadata": {},
   "outputs": [],
   "source": [
    "volume = pd.DataFrame({'id': systems.id, 'volume':systems.volume})\n",
    "mass = pd.DataFrame({'id': systems.id, 'mass':systems.mass})"
   ]
  },
  {
   "cell_type": "code",
   "execution_count": 128,
   "metadata": {},
   "outputs": [
    {
     "data": {
      "text/html": [
       "<div>\n",
       "<style scoped>\n",
       "    .dataframe tbody tr th:only-of-type {\n",
       "        vertical-align: middle;\n",
       "    }\n",
       "\n",
       "    .dataframe tbody tr th {\n",
       "        vertical-align: top;\n",
       "    }\n",
       "\n",
       "    .dataframe thead th {\n",
       "        text-align: right;\n",
       "    }\n",
       "</style>\n",
       "<table border=\"1\" class=\"dataframe\">\n",
       "  <thead>\n",
       "    <tr style=\"text-align: right;\">\n",
       "      <th></th>\n",
       "      <th>id</th>\n",
       "      <th>volume</th>\n",
       "    </tr>\n",
       "  </thead>\n",
       "  <tbody>\n",
       "    <tr>\n",
       "      <th>0</th>\n",
       "      <td>1</td>\n",
       "      <td>60.301946</td>\n",
       "    </tr>\n",
       "    <tr>\n",
       "      <th>1</th>\n",
       "      <td>2</td>\n",
       "      <td>69.072728</td>\n",
       "    </tr>\n",
       "    <tr>\n",
       "      <th>2</th>\n",
       "      <td>3</td>\n",
       "      <td>70.420772</td>\n",
       "    </tr>\n",
       "    <tr>\n",
       "      <th>3</th>\n",
       "      <td>4</td>\n",
       "      <td>71.053021</td>\n",
       "    </tr>\n",
       "    <tr>\n",
       "      <th>4</th>\n",
       "      <td>5</td>\n",
       "      <td>73.668620</td>\n",
       "    </tr>\n",
       "  </tbody>\n",
       "</table>\n",
       "</div>"
      ],
      "text/plain": [
       "   id     volume\n",
       "0   1  60.301946\n",
       "1   2  69.072728\n",
       "2   3  70.420772\n",
       "3   4  71.053021\n",
       "4   5  73.668620"
      ]
     },
     "execution_count": 128,
     "metadata": {},
     "output_type": "execute_result"
    }
   ],
   "source": [
    "volume.head()"
   ]
  },
  {
   "cell_type": "code",
   "execution_count": 129,
   "metadata": {},
   "outputs": [],
   "source": [
    "perovskite=pd.merge(perovskite_values,volume,how='left',on='id')\n",
    "perovskite=pd.merge(perovskite,mass,how='left',on='id')"
   ]
  },
  {
   "cell_type": "code",
   "execution_count": 130,
   "metadata": {},
   "outputs": [],
   "source": [
    "perovskite=perovskite.drop(columns=['key','key_x','key_y'])"
   ]
  },
  {
   "cell_type": "code",
   "execution_count": 131,
   "metadata": {},
   "outputs": [],
   "source": [
    "perovskite.set_index('id',inplace=True)"
   ]
  },
  {
   "cell_type": "code",
   "execution_count": 132,
   "metadata": {},
   "outputs": [],
   "source": [
    "perovskite['density']=perovskite['mass']/perovskite['volume']"
   ]
  },
  {
   "cell_type": "code",
   "execution_count": 133,
   "metadata": {},
   "outputs": [],
   "source": [
    "# remove all the NaN \n",
    "perovskite = perovskite.fillna(0.)"
   ]
  },
  {
   "cell_type": "code",
   "execution_count": 134,
   "metadata": {},
   "outputs": [],
   "source": [
    "perovskite['A_R']=perovskite['A_s_R']+perovskite['A_p_R']+perovskite['A_d_R']\n",
    "perovskite['B_R']=perovskite['B_s_R']+perovskite['B_p_R']+perovskite['B_d_R']"
   ]
  },
  {
   "cell_type": "code",
   "execution_count": 135,
   "metadata": {},
   "outputs": [
    {
     "data": {
      "text/html": [
       "<div>\n",
       "<style scoped>\n",
       "    .dataframe tbody tr th:only-of-type {\n",
       "        vertical-align: middle;\n",
       "    }\n",
       "\n",
       "    .dataframe tbody tr th {\n",
       "        vertical-align: top;\n",
       "    }\n",
       "\n",
       "    .dataframe thead th {\n",
       "        text-align: right;\n",
       "    }\n",
       "</style>\n",
       "<table border=\"1\" class=\"dataframe\">\n",
       "  <thead>\n",
       "    <tr style=\"text-align: right;\">\n",
       "      <th></th>\n",
       "      <th>anion</th>\n",
       "      <th>anion_X</th>\n",
       "      <th>anion_IE</th>\n",
       "      <th>A_ion</th>\n",
       "      <th>A_X</th>\n",
       "      <th>A_IE</th>\n",
       "      <th>A_s_R</th>\n",
       "      <th>A_p_R</th>\n",
       "      <th>A_d_R</th>\n",
       "      <th>A_aff</th>\n",
       "      <th>...</th>\n",
       "      <th>B_IE</th>\n",
       "      <th>B_s_R</th>\n",
       "      <th>B_p_R</th>\n",
       "      <th>B_d_R</th>\n",
       "      <th>B_aff</th>\n",
       "      <th>volume</th>\n",
       "      <th>mass</th>\n",
       "      <th>density</th>\n",
       "      <th>A_R</th>\n",
       "      <th>B_R</th>\n",
       "    </tr>\n",
       "    <tr>\n",
       "      <th>id</th>\n",
       "      <th></th>\n",
       "      <th></th>\n",
       "      <th></th>\n",
       "      <th></th>\n",
       "      <th></th>\n",
       "      <th></th>\n",
       "      <th></th>\n",
       "      <th></th>\n",
       "      <th></th>\n",
       "      <th></th>\n",
       "      <th></th>\n",
       "      <th></th>\n",
       "      <th></th>\n",
       "      <th></th>\n",
       "      <th></th>\n",
       "      <th></th>\n",
       "      <th></th>\n",
       "      <th></th>\n",
       "      <th></th>\n",
       "      <th></th>\n",
       "      <th></th>\n",
       "    </tr>\n",
       "  </thead>\n",
       "  <tbody>\n",
       "    <tr>\n",
       "      <th>1</th>\n",
       "      <td>O2N</td>\n",
       "      <td>3.30666</td>\n",
       "      <td>13.92342</td>\n",
       "      <td>Ti</td>\n",
       "      <td>1.54</td>\n",
       "      <td>6.82810</td>\n",
       "      <td>162.2</td>\n",
       "      <td>0.0</td>\n",
       "      <td>52.8</td>\n",
       "      <td>0.084000</td>\n",
       "      <td>...</td>\n",
       "      <td>9.78860</td>\n",
       "      <td>88.5</td>\n",
       "      <td>106.6</td>\n",
       "      <td>25.4</td>\n",
       "      <td>0.804800</td>\n",
       "      <td>60.301946</td>\n",
       "      <td>168.80710</td>\n",
       "      <td>2.799364</td>\n",
       "      <td>215.0</td>\n",
       "      <td>220.5</td>\n",
       "    </tr>\n",
       "    <tr>\n",
       "      <th>2</th>\n",
       "      <td>O2N</td>\n",
       "      <td>3.30666</td>\n",
       "      <td>13.92342</td>\n",
       "      <td>K</td>\n",
       "      <td>0.82</td>\n",
       "      <td>4.34066</td>\n",
       "      <td>230.0</td>\n",
       "      <td>0.0</td>\n",
       "      <td>0.0</td>\n",
       "      <td>0.501459</td>\n",
       "      <td>...</td>\n",
       "      <td>8.60840</td>\n",
       "      <td>106.5</td>\n",
       "      <td>126.6</td>\n",
       "      <td>44.7</td>\n",
       "      <td>1.047401</td>\n",
       "      <td>69.072728</td>\n",
       "      <td>206.86080</td>\n",
       "      <td>2.994826</td>\n",
       "      <td>230.0</td>\n",
       "      <td>277.8</td>\n",
       "    </tr>\n",
       "    <tr>\n",
       "      <th>3</th>\n",
       "      <td>O2N</td>\n",
       "      <td>3.30666</td>\n",
       "      <td>13.92342</td>\n",
       "      <td>Hg</td>\n",
       "      <td>2.00</td>\n",
       "      <td>10.43750</td>\n",
       "      <td>141.7</td>\n",
       "      <td>0.0</td>\n",
       "      <td>60.8</td>\n",
       "      <td>-0.520000</td>\n",
       "      <td>...</td>\n",
       "      <td>6.75885</td>\n",
       "      <td>181.9</td>\n",
       "      <td>0.0</td>\n",
       "      <td>78.9</td>\n",
       "      <td>0.917400</td>\n",
       "      <td>70.420772</td>\n",
       "      <td>339.50190</td>\n",
       "      <td>4.821048</td>\n",
       "      <td>202.5</td>\n",
       "      <td>260.8</td>\n",
       "    </tr>\n",
       "    <tr>\n",
       "      <th>4</th>\n",
       "      <td>O2N</td>\n",
       "      <td>3.30666</td>\n",
       "      <td>13.92342</td>\n",
       "      <td>Bi</td>\n",
       "      <td>2.02</td>\n",
       "      <td>7.28560</td>\n",
       "      <td>114.4</td>\n",
       "      <td>136.1</td>\n",
       "      <td>54.2</td>\n",
       "      <td>0.942362</td>\n",
       "      <td>...</td>\n",
       "      <td>8.60840</td>\n",
       "      <td>106.5</td>\n",
       "      <td>126.6</td>\n",
       "      <td>44.7</td>\n",
       "      <td>1.047401</td>\n",
       "      <td>71.053021</td>\n",
       "      <td>376.74290</td>\n",
       "      <td>5.302278</td>\n",
       "      <td>304.7</td>\n",
       "      <td>277.8</td>\n",
       "    </tr>\n",
       "    <tr>\n",
       "      <th>5</th>\n",
       "      <td>O2N</td>\n",
       "      <td>3.30666</td>\n",
       "      <td>13.92342</td>\n",
       "      <td>Na</td>\n",
       "      <td>0.93</td>\n",
       "      <td>5.13908</td>\n",
       "      <td>179.1</td>\n",
       "      <td>0.0</td>\n",
       "      <td>0.0</td>\n",
       "      <td>0.547926</td>\n",
       "      <td>...</td>\n",
       "      <td>7.57620</td>\n",
       "      <td>153.2</td>\n",
       "      <td>0.0</td>\n",
       "      <td>54.7</td>\n",
       "      <td>1.304470</td>\n",
       "      <td>73.668620</td>\n",
       "      <td>176.86327</td>\n",
       "      <td>2.400795</td>\n",
       "      <td>179.1</td>\n",
       "      <td>207.9</td>\n",
       "    </tr>\n",
       "  </tbody>\n",
       "</table>\n",
       "<p>5 rows × 22 columns</p>\n",
       "</div>"
      ],
      "text/plain": [
       "   anion  anion_X  anion_IE A_ion   A_X      A_IE  A_s_R  A_p_R  A_d_R  \\\n",
       "id                                                                       \n",
       "1    O2N  3.30666  13.92342    Ti  1.54   6.82810  162.2    0.0   52.8   \n",
       "2    O2N  3.30666  13.92342     K  0.82   4.34066  230.0    0.0    0.0   \n",
       "3    O2N  3.30666  13.92342    Hg  2.00  10.43750  141.7    0.0   60.8   \n",
       "4    O2N  3.30666  13.92342    Bi  2.02   7.28560  114.4  136.1   54.2   \n",
       "5    O2N  3.30666  13.92342    Na  0.93   5.13908  179.1    0.0    0.0   \n",
       "\n",
       "       A_aff  ...       B_IE  B_s_R  B_p_R  B_d_R     B_aff     volume  \\\n",
       "id            ...                                                        \n",
       "1   0.084000  ...    9.78860   88.5  106.6   25.4  0.804800  60.301946   \n",
       "2   0.501459  ...    8.60840  106.5  126.6   44.7  1.047401  69.072728   \n",
       "3  -0.520000  ...    6.75885  181.9    0.0   78.9  0.917400  70.420772   \n",
       "4   0.942362  ...    8.60840  106.5  126.6   44.7  1.047401  71.053021   \n",
       "5   0.547926  ...    7.57620  153.2    0.0   54.7  1.304470  73.668620   \n",
       "\n",
       "         mass   density    A_R    B_R  \n",
       "id                                     \n",
       "1   168.80710  2.799364  215.0  220.5  \n",
       "2   206.86080  2.994826  230.0  277.8  \n",
       "3   339.50190  4.821048  202.5  260.8  \n",
       "4   376.74290  5.302278  304.7  277.8  \n",
       "5   176.86327  2.400795  179.1  207.9  \n",
       "\n",
       "[5 rows x 22 columns]"
      ]
     },
     "execution_count": 135,
     "metadata": {},
     "output_type": "execute_result"
    }
   ],
   "source": [
    "perovskite.head()"
   ]
  },
  {
   "cell_type": "code",
   "execution_count": 136,
   "metadata": {},
   "outputs": [
    {
     "data": {
      "text/plain": [
       "(18928, 22)"
      ]
     },
     "execution_count": 136,
     "metadata": {},
     "output_type": "execute_result"
    }
   ],
   "source": [
    "perovskite.shape"
   ]
  },
  {
   "cell_type": "code",
   "execution_count": 137,
   "metadata": {
    "scrolled": false
   },
   "outputs": [],
   "source": [
    "# remove all the NaN line\n",
    "values = values[(values.CB_ind > 0.0)]"
   ]
  },
  {
   "cell_type": "code",
   "execution_count": 138,
   "metadata": {},
   "outputs": [
    {
     "data": {
      "text/html": [
       "<div>\n",
       "<style scoped>\n",
       "    .dataframe tbody tr th:only-of-type {\n",
       "        vertical-align: middle;\n",
       "    }\n",
       "\n",
       "    .dataframe tbody tr th {\n",
       "        vertical-align: top;\n",
       "    }\n",
       "\n",
       "    .dataframe thead th {\n",
       "        text-align: right;\n",
       "    }\n",
       "</style>\n",
       "<table border=\"1\" class=\"dataframe\">\n",
       "  <thead>\n",
       "    <tr style=\"text-align: right;\">\n",
       "      <th></th>\n",
       "      <th>CB_ind</th>\n",
       "      <th>CB_dir</th>\n",
       "      <th>VB_dir</th>\n",
       "      <th>VB_ind</th>\n",
       "      <th>gllbsc_dir_gap</th>\n",
       "      <th>gllbsc_ind_gap</th>\n",
       "      <th>heat_of_formation</th>\n",
       "      <th>standard_energy</th>\n",
       "    </tr>\n",
       "    <tr>\n",
       "      <th>id</th>\n",
       "      <th></th>\n",
       "      <th></th>\n",
       "      <th></th>\n",
       "      <th></th>\n",
       "      <th></th>\n",
       "      <th></th>\n",
       "      <th></th>\n",
       "      <th></th>\n",
       "    </tr>\n",
       "  </thead>\n",
       "  <tbody>\n",
       "    <tr>\n",
       "      <th>1</th>\n",
       "      <td>5.962712</td>\n",
       "      <td>5.962712</td>\n",
       "      <td>5.962712</td>\n",
       "      <td>5.962712</td>\n",
       "      <td>0.0</td>\n",
       "      <td>0.0</td>\n",
       "      <td>1.20</td>\n",
       "      <td>-2.771908</td>\n",
       "    </tr>\n",
       "    <tr>\n",
       "      <th>2</th>\n",
       "      <td>5.456778</td>\n",
       "      <td>5.456778</td>\n",
       "      <td>5.456778</td>\n",
       "      <td>5.456778</td>\n",
       "      <td>0.0</td>\n",
       "      <td>0.0</td>\n",
       "      <td>0.60</td>\n",
       "      <td>-2.015260</td>\n",
       "    </tr>\n",
       "    <tr>\n",
       "      <th>3</th>\n",
       "      <td>5.603095</td>\n",
       "      <td>5.333095</td>\n",
       "      <td>6.913095</td>\n",
       "      <td>6.643095</td>\n",
       "      <td>1.6</td>\n",
       "      <td>1.0</td>\n",
       "      <td>0.54</td>\n",
       "      <td>-3.706880</td>\n",
       "    </tr>\n",
       "    <tr>\n",
       "      <th>4</th>\n",
       "      <td>6.066547</td>\n",
       "      <td>6.066547</td>\n",
       "      <td>6.066547</td>\n",
       "      <td>6.066547</td>\n",
       "      <td>0.0</td>\n",
       "      <td>0.0</td>\n",
       "      <td>0.88</td>\n",
       "      <td>-0.498542</td>\n",
       "    </tr>\n",
       "    <tr>\n",
       "      <th>5</th>\n",
       "      <td>5.539498</td>\n",
       "      <td>5.539498</td>\n",
       "      <td>5.539498</td>\n",
       "      <td>5.539498</td>\n",
       "      <td>0.0</td>\n",
       "      <td>0.0</td>\n",
       "      <td>1.78</td>\n",
       "      <td>3.552433</td>\n",
       "    </tr>\n",
       "  </tbody>\n",
       "</table>\n",
       "</div>"
      ],
      "text/plain": [
       "      CB_ind    CB_dir    VB_dir    VB_ind  gllbsc_dir_gap  gllbsc_ind_gap  \\\n",
       "id                                                                           \n",
       "1   5.962712  5.962712  5.962712  5.962712             0.0             0.0   \n",
       "2   5.456778  5.456778  5.456778  5.456778             0.0             0.0   \n",
       "3   5.603095  5.333095  6.913095  6.643095             1.6             1.0   \n",
       "4   6.066547  6.066547  6.066547  6.066547             0.0             0.0   \n",
       "5   5.539498  5.539498  5.539498  5.539498             0.0             0.0   \n",
       "\n",
       "    heat_of_formation  standard_energy  \n",
       "id                                      \n",
       "1                1.20        -2.771908  \n",
       "2                0.60        -2.015260  \n",
       "3                0.54        -3.706880  \n",
       "4                0.88        -0.498542  \n",
       "5                1.78         3.552433  "
      ]
     },
     "execution_count": 138,
     "metadata": {},
     "output_type": "execute_result"
    }
   ],
   "source": [
    "values.head()"
   ]
  },
  {
   "cell_type": "markdown",
   "metadata": {},
   "source": [
    "only 735 lines positive bandgap data"
   ]
  },
  {
   "cell_type": "code",
   "execution_count": 139,
   "metadata": {},
   "outputs": [],
   "source": [
    "data_total=pd.merge(perovskite,values,how='outer',left_index=True,right_index=True)"
   ]
  },
  {
   "cell_type": "code",
   "execution_count": null,
   "metadata": {},
   "outputs": [],
   "source": []
  },
  {
   "cell_type": "markdown",
   "metadata": {},
   "source": [
    "the dataframe 'data_total' is a collection of all the data"
   ]
  },
  {
   "cell_type": "code",
   "execution_count": 140,
   "metadata": {},
   "outputs": [],
   "source": [
    "from keras.models import Sequential\n",
    "from keras.layers import Dense\n",
    "from keras.wrappers.scikit_learn import KerasRegressor\n",
    "import matplotlib.pyplot as plt\n",
    "import numpy as np\n",
    "import pandas as pd\n",
    "from sklearn.model_selection import cross_val_score\n",
    "from sklearn.model_selection import KFold\n",
    "from sklearn.model_selection import train_test_split\n",
    "from sklearn.preprocessing import StandardScaler\n",
    "from sklearn.pipeline import Pipeline\n",
    "\n",
    "%matplotlib inline"
   ]
  },
  {
   "cell_type": "code",
   "execution_count": 141,
   "metadata": {},
   "outputs": [],
   "source": [
    "seed = 21899"
   ]
  },
  {
   "cell_type": "code",
   "execution_count": 142,
   "metadata": {},
   "outputs": [],
   "source": [
    "X = data_total[['anion_X', 'anion_IE', 'A_X', 'A_IE', 'A_s_R',\n",
    "       'A_p_R', 'A_d_R', 'A_aff' , 'B_X', 'B_IE', 'B_s_R', 'B_p_R',\n",
    "       'B_d_R', 'B_aff', 'volume', 'mass', 'density', 'A_R', 'B_R', 'CB_ind',\n",
    "       'CB_dir', 'VB_dir', 'VB_ind', 'gllbsc_dir_gap', 'gllbsc_ind_gap',\n",
    "       'heat_of_formation', 'standard_energy']].values\n",
    "Y = data_total[['gllbsc_dir_gap']].values"
   ]
  },
  {
   "cell_type": "code",
   "execution_count": 143,
   "metadata": {},
   "outputs": [],
   "source": [
    "X_train_pn,X_test_pn,y_train,y_test = train_test_split(X, Y, test_size=0.20,random_state=seed)"
   ]
  },
  {
   "cell_type": "code",
   "execution_count": 144,
   "metadata": {},
   "outputs": [],
   "source": [
    "X_train_scaler = StandardScaler().fit(X_train_pn)\n",
    "X_train = X_train_scaler.transform(X_train_pn)"
   ]
  },
  {
   "cell_type": "code",
   "execution_count": 145,
   "metadata": {},
   "outputs": [],
   "source": [
    "def model():\n",
    "    model = Sequential()\n",
    "    model.add(Dense(27, input_dim=27, kernel_initializer='normal', activation='relu'))\n",
    "    model.add(Dense(16, kernel_initializer='normal', activation='relu'))\n",
    "    model.add(Dense(1, kernel_initializer='normal'))\n",
    "    model.compile(loss='mean_squared_error', optimizer='adam', metrics=['accuracy'])\n",
    "    return model"
   ]
  },
  {
   "cell_type": "code",
   "execution_count": 146,
   "metadata": {},
   "outputs": [],
   "source": [
    "np.random.seed(seed)\n",
    "estimator = KerasRegressor(build_fn= model,\n",
    "        epochs=150, batch_size=10000, verbose=0)\n",
    "history = estimator.fit(X_train, y_train, validation_split=0.33, epochs=150, \n",
    "        batch_size=5000, verbose=0)"
   ]
  },
  {
   "cell_type": "code",
   "execution_count": 147,
   "metadata": {},
   "outputs": [
    {
     "data": {
      "image/png": "[encoded data removed]",
      "text/plain": [
       "<Figure size 432x288 with 1 Axes>"
      ]
     },
     "metadata": {},
     "output_type": "display_data"
    }
   ],
   "source": [
    "plt.plot(history.history['loss'])\n",
    "plt.plot(history.history['val_loss'])\n",
    "plt.title('model loss')\n",
    "plt.ylabel('loss')\n",
    "plt.xlabel('epoch')\n",
    "plt.legend(['train', 'validation'], loc='upper left')\n",
    "plt.show()"
   ]
  },
  {
   "cell_type": "code",
   "execution_count": 152,
   "metadata": {},
   "outputs": [
    {
     "name": "stdout",
     "output_type": "stream",
     "text": [
      "dict_keys(['val_loss', 'val_acc', 'loss', 'acc'])\n"
     ]
    }
   ],
   "source": [
    "print(history.history.keys())"
   ]
  },
  {
   "cell_type": "code",
   "execution_count": 155,
   "metadata": {},
   "outputs": [
    {
     "name": "stdout",
     "output_type": "stream",
     "text": [
      "final accuracy for train is 0.96 and for validation is 0.97\n"
     ]
    }
   ],
   "source": [
    "print(\"final accuracy for train is %.2f and for validation is %.2f\" % \n",
    "      (history.history['acc'][-1], history.history['val_acc'][-1]))"
   ]
  },
  {
   "cell_type": "code",
   "execution_count": 156,
   "metadata": {},
   "outputs": [
    {
     "data": {
      "image/png": "[encoded data removed]",
      "text/plain": [
       "<Figure size 432x288 with 1 Axes>"
      ]
     },
     "metadata": {},
     "output_type": "display_data"
    }
   ],
   "source": [
    "plt.plot(history.history['acc'])\n",
    "plt.plot(history.history['val_acc'])\n",
    "plt.title('model accuracy')\n",
    "plt.ylabel('acc')\n",
    "plt.xlabel('epoch')\n",
    "plt.legend(['train', 'validation'], loc='upper left')\n",
    "plt.show()"
   ]
  },
  {
   "cell_type": "code",
   "execution_count": 162,
   "metadata": {},
   "outputs": [
    {
     "name": "stdout",
     "output_type": "stream",
     "text": [
      "3786/3786 [==============================] - 0s 114us/step\n",
      "test set accuracy is 0.96\n"
     ]
    }
   ],
   "source": [
    "test_loss = estimator.model.evaluate(X_test, y_test)\n",
    "type(test_loss)\n",
    "print(\"test set accuracy is %.2f\" % test_loss[1])"
   ]
  },
  {
   "cell_type": "code",
   "execution_count": null,
   "metadata": {},
   "outputs": [],
   "source": []
  }
 ],
 "metadata": {
  "kernelspec": {
   "display_name": "Python 3",
   "language": "python",
   "name": "python3"
  },
  "language_info": {
   "codemirror_mode": {
    "name": "ipython",
    "version": 3
   },
   "file_extension": ".py",
   "mimetype": "text/x-python",
   "name": "python",
   "nbconvert_exporter": "python",
   "pygments_lexer": "ipython3",
   "version": "3.6.4"
  }
 },
 "nbformat": 4,
 "nbformat_minor": 2
}
