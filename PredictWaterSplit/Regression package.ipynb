{
 "cells": [
  {
   "cell_type": "code",
   "execution_count": 22,
   "metadata": {},
   "outputs": [],
   "source": [
    "import pandas as pd"
   ]
  },
  {
   "cell_type": "code",
   "execution_count": 23,
   "metadata": {
    "scrolled": true
   },
   "outputs": [],
   "source": [
    "from KRRcode import open_database"
   ]
  },
  {
   "cell_type": "code",
   "execution_count": 24,
   "metadata": {},
   "outputs": [],
   "source": [
    "from KRRcode import predictbyKRR"
   ]
  },
  {
   "cell_type": "code",
   "execution_count": 25,
   "metadata": {},
   "outputs": [],
   "source": [
    "from KRRcode import outlier"
   ]
  },
  {
   "cell_type": "code",
   "execution_count": 26,
   "metadata": {},
   "outputs": [],
   "source": [
    "from KRRcode import featureselect"
   ]
  },
  {
   "cell_type": "markdown",
   "metadata": {},
   "source": [
    "## This notebook is to show how we make prediction with kernel ridge regression and analyze the outliers"
   ]
  },
  {
   "cell_type": "code",
   "execution_count": 27,
   "metadata": {},
   "outputs": [],
   "source": [
    "perovskite,values,data_total = open_database.read_database()"
   ]
  },
  {
   "cell_type": "code",
   "execution_count": 28,
   "metadata": {},
   "outputs": [],
   "source": [
    "traindata,testdata = predictbyKRR.build_data(data_total)"
   ]
  },
  {
   "cell_type": "code",
   "execution_count": 29,
   "metadata": {},
   "outputs": [],
   "source": [
    "feature_list = ['anion_X', 'anion_IE', 'A_X', 'A_IE', 'A_aff', 'B_IE', 'B_aff', 'volume', 'mass', 'A_R', 'B_R', 'aff_A+B', 'aff_A-B', 'A_R_max', 'B_R_max']"
   ]
  },
  {
   "cell_type": "markdown",
   "metadata": {},
   "source": [
    "### Predict the band energy and heat of formation"
   ]
  },
  {
   "cell_type": "code",
   "execution_count": 30,
   "metadata": {
    "scrolled": false
   },
   "outputs": [],
   "source": [
    "CB_dir_predict_train,CB_dir_predict_test = predictbyKRR.predict_Band(feature_list,traindata,testdata,'CB_dir')"
   ]
  },
  {
   "cell_type": "code",
   "execution_count": 50,
   "metadata": {},
   "outputs": [],
   "source": [
    "predictbyKRR.plot_predict(CB_dir_predict_test,testdata.CB_dir,\n",
    "             CB_dir_predict_train,traindata.CB_dir,\n",
    "             'prediction of direct conduction band')"
   ]
  },
  {
   "cell_type": "code",
   "execution_count": 32,
   "metadata": {
    "scrolled": true
   },
   "outputs": [],
   "source": [
    "CB_ind_predict_train,CB_ind_predict_test = predictbyKRR.predict_Band(feature_list,traindata,testdata,'CB_ind')"
   ]
  },
  {
   "cell_type": "code",
   "execution_count": 33,
   "metadata": {},
   "outputs": [],
   "source": [
    "type(CB_ind_predict_train)"
   ]
  },
  {
   "cell_type": "code",
   "execution_count": 34,
   "metadata": {},
   "outputs": [],
   "source": [
    "predictbyKRR.plot_predict(CB_ind_predict_test,testdata.CB_ind,\n",
    "             CB_ind_predict_train,traindata.CB_ind,\n",
    "             'prediction of indirect conduction band')"
   ]
  },
  {
   "cell_type": "code",
   "execution_count": 35,
   "metadata": {
    "scrolled": true
   },
   "outputs": [],
   "source": [
    "VB_dir_predict_train,VB_dir_predict_test = predictbyKRR.predict_Band(feature_list,traindata,testdata,'VB_dir')"
   ]
  },
  {
   "cell_type": "code",
   "execution_count": 36,
   "metadata": {},
   "outputs": [],
   "source": [
    "predictbyKRR.plot_predict(VB_dir_predict_test,testdata.VB_dir,\n",
    "             VB_dir_predict_train,traindata.VB_dir,\n",
    "             'prediction of direct valence band')"
   ]
  },
  {
   "cell_type": "code",
   "execution_count": 37,
   "metadata": {
    "scrolled": true
   },
   "outputs": [],
   "source": [
    "VB_ind_predict_train,VB_ind_predict_test = predictbyKRR.predict_Band(feature_list,traindata,testdata,'VB_ind')"
   ]
  },
  {
   "cell_type": "code",
   "execution_count": 38,
   "metadata": {},
   "outputs": [],
   "source": [
    "predictbyKRR.plot_predict(VB_ind_predict_test,testdata.VB_ind,\n",
    "             VB_ind_predict_train,traindata.VB_ind,\n",
    "             'prediction of indirect valence band')"
   ]
  },
  {
   "cell_type": "code",
   "execution_count": 39,
   "metadata": {},
   "outputs": [],
   "source": [
    "hf_predict_train,hf_predict_test = predictbyKRR.predict_Band(feature_list,traindata,testdata,'heat_of_formation')"
   ]
  },
  {
   "cell_type": "code",
   "execution_count": 40,
   "metadata": {},
   "outputs": [],
   "source": [
    "predictbyKRR.plot_predict(hf_predict_test,testdata.heat_of_formation,\n",
    "             hf_predict_train,traindata.heat_of_formation,\n",
    "             'prediction of heat of formation')"
   ]
  },
  {
   "cell_type": "markdown",
   "metadata": {},
   "source": [
    "### find the recurring outliers in testdata and plot them"
   ]
  },
  {
   "cell_type": "code",
   "execution_count": 41,
   "metadata": {},
   "outputs": [],
   "source": [
    "pred_compare = testdata.copy()\n",
    "pred_compare['CB_ind_pred'] = CB_ind_predict_test\n",
    "pred_compare['VB_ind_pred'] = VB_ind_predict_test\n",
    "pred_compare['CB_dir_pred'] = CB_dir_predict_test\n",
    "pred_compare['VB_dir_pred'] = VB_dir_predict_test\n",
    "pred_compare['hf_pred'] = hf_predict_test\n",
    "\n",
    "pred_compare['ind_gap'] = pred_compare['CB_ind_pred']-pred_compare['VB_ind_pred']\n",
    "pred_compare['dir_gap'] = pred_compare['CB_dir_pred']-pred_compare['VB_dir_pred']\n"
   ]
  },
  {
   "cell_type": "code",
   "execution_count": 43,
   "metadata": {},
   "outputs": [],
   "source": [
    "recuroutlier_test = outlier.collectoutlier(pred_compare)"
   ]
  },
  {
   "cell_type": "code",
   "execution_count": 44,
   "metadata": {},
   "outputs": [],
   "source": [
    "recuroutlier_train.groupby('anion').count()"
   ]
  },
  {
   "cell_type": "code",
   "execution_count": 45,
   "metadata": {},
   "outputs": [],
   "source": [
    "recuroutlier_test.groupby('anion').count()"
   ]
  },
  {
   "cell_type": "code",
   "execution_count": 46,
   "metadata": {},
   "outputs": [],
   "source": [
    "outlier.plot_outlier(CB_dir_predict_test,testdata.CB_dir,\n",
    "             recuroutlier_test.CB_dir_pred,recuroutlier_test.CB_dir,\n",
    "            'Prediction of Direct Conduction Band')"
   ]
  },
  {
   "cell_type": "code",
   "execution_count": 47,
   "metadata": {},
   "outputs": [],
   "source": [
    "outlier.plot_outlier(VB_dir_predict_test,testdata.VB_dir,\n",
    "             recuroutlier_test.VB_dir_pred,recuroutlier_test.VB_dir,\n",
    "            'Prediction of Direct Valence Band')"
   ]
  },
  {
   "cell_type": "code",
   "execution_count": 48,
   "metadata": {},
   "outputs": [],
   "source": [
    "outlier.plot_outlier(VB_ind_predict_test,testdata.VB_ind,\n",
    "             recuroutlier_test.VB_ind_pred,recuroutlier_test.VB_ind,\n",
    "            'Prediction of Indirect Valence Band')"
   ]
  },
  {
   "cell_type": "code",
   "execution_count": 49,
   "metadata": {},
   "outputs": [],
   "source": [
    "outlier.plot_outlier(CB_ind_predict_test,testdata.CB_ind,\n",
    "             recuroutlier_test.CB_ind_pred,recuroutlier_test.CB_ind,\n",
    "            'Prediction of Indirect Valence Band')"
   ]
  },
  {
   "cell_type": "code",
   "execution_count": null,
   "metadata": {},
   "outputs": [],
   "source": []
  }
 ],
 "metadata": {
  "kernelspec": {
   "display_name": "Python 3",
   "language": "python",
   "name": "python3"
  },
  "language_info": {
   "codemirror_mode": {
    "name": "ipython",
    "version": 3
   },
   "file_extension": ".py",
   "mimetype": "text/x-python",
   "name": "python",
   "nbconvert_exporter": "python",
   "pygments_lexer": "ipython3",
   "version": "3.6.4"
  }
 },
 "nbformat": 4,
 "nbformat_minor": 2
}
