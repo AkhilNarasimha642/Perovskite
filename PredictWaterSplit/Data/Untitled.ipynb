{
 "cells": [
  {
   "cell_type": "code",
   "execution_count": 2,
   "metadata": {},
   "outputs": [],
   "source": [
    "import pandas as pd\n",
    "\n",
    "electroneg = pd.read_csv('electronegativity.csv')\n",
    "ionization=pd.read_excel('ionization energy.xlsx')\n",
    "Rmax = pd.read_excel('Rmax.xlsx')\n",
    "affinity = pd.read_excel('electron affinities.xlsx')"
   ]
  },
  {
   "cell_type": "code",
   "execution_count": 3,
   "metadata": {},
   "outputs": [],
   "source": [
    "your_data=pd.DataFrame(columns=['anion', 'anion_X', 'anion_IE', 'A_ion', 'A_X', 'A_IE', 'A_s_R','A_p_R', 'A_d_R', 'A_aff', \n",
    "                                    'B_ion', 'B_X', 'B_IE','B_s_R','B_p_R','B_d_R', 'B_aff','volume','mass','density', 'A_R', 'B_R','X_A+B','X_A-B',\n",
    "                                    'IE_A+B','IE_A-B','aff_A+B','aff_A-B','A_R_max','B_R_max','standard_energy'])"
   ]
  },
  {
   "cell_type": "code",
   "execution_count": 4,
   "metadata": {},
   "outputs": [],
   "source": [
    "anion = 'N2O'\n",
    "A_ion = 'Ca'\n",
    "B_ion = 'Nb'"
   ]
  },
  {
   "cell_type": "code",
   "execution_count": null,
   "metadata": {},
   "outputs": [],
   "source": [
    "your_data['anion'] = anion\n",
    "your_data['A_ion'] = A_ion\n",
    "your_data['B_ion'] = B_ion\n",
    "if "
   ]
  }
 ],
 "metadata": {
  "kernelspec": {
   "display_name": "Python 3",
   "language": "python",
   "name": "python3"
  },
  "language_info": {
   "codemirror_mode": {
    "name": "ipython",
    "version": 3
   },
   "file_extension": ".py",
   "mimetype": "text/x-python",
   "name": "python",
   "nbconvert_exporter": "python",
   "pygments_lexer": "ipython3",
   "version": "3.6.3"
  }
 },
 "nbformat": 4,
 "nbformat_minor": 2
}
