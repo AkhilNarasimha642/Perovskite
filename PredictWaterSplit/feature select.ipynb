{
 "cells": [
  {
   "cell_type": "code",
   "execution_count": 2,
   "metadata": {},
   "outputs": [],
   "source": [
    "from KRRcode import featureselect\n",
    "from KRRcode import open_database\n",
    "import pandas as pd"
   ]
  },
  {
   "cell_type": "code",
   "execution_count": 3,
   "metadata": {},
   "outputs": [],
   "source": [
    "perovskite,values,data_total = open_database.read_database()"
   ]
  },
  {
   "cell_type": "markdown",
   "metadata": {},
   "source": [
    "This notebook is to find the least correlated combination of features. feature_select function will readin perovskite data with all the features and the number of features we want to use in our prediction. The returned dataframe show the possible combination of features and their sum of correlation coefficient.\n",
    "\n",
    "Note: this function may take long time to run!"
   ]
  },
  {
   "cell_type": "code",
   "execution_count": 4,
   "metadata": {},
   "outputs": [],
   "source": [
    "least_corr_list = featureselect.feature_select(perovskite,26)"
   ]
  },
  {
   "cell_type": "code",
   "execution_count": 5,
   "metadata": {},
   "outputs": [
    {
     "data": {
      "text/html": [
       "<div>\n",
       "<style scoped>\n",
       "    .dataframe tbody tr th:only-of-type {\n",
       "        vertical-align: middle;\n",
       "    }\n",
       "\n",
       "    .dataframe tbody tr th {\n",
       "        vertical-align: top;\n",
       "    }\n",
       "\n",
       "    .dataframe thead th {\n",
       "        text-align: right;\n",
       "    }\n",
       "</style>\n",
       "<table border=\"1\" class=\"dataframe\">\n",
       "  <thead>\n",
       "    <tr style=\"text-align: right;\">\n",
       "      <th></th>\n",
       "      <th>combination</th>\n",
       "      <th>sum of correlation</th>\n",
       "    </tr>\n",
       "  </thead>\n",
       "  <tbody>\n",
       "    <tr>\n",
       "      <th>7</th>\n",
       "      <td>[(anion_X, anion_IE, A_X, A_IE, A_s_R, A_p_R, ...</td>\n",
       "      <td>60.250576</td>\n",
       "    </tr>\n",
       "    <tr>\n",
       "      <th>18</th>\n",
       "      <td>[(anion_X, anion_IE, A_X, A_IE, A_s_R, A_p_R, ...</td>\n",
       "      <td>61.274034</td>\n",
       "    </tr>\n",
       "    <tr>\n",
       "      <th>6</th>\n",
       "      <td>[(anion_X, anion_IE, A_X, A_IE, A_s_R, A_p_R, ...</td>\n",
       "      <td>61.290807</td>\n",
       "    </tr>\n",
       "    <tr>\n",
       "      <th>5</th>\n",
       "      <td>[(anion_X, anion_IE, A_X, A_IE, A_s_R, A_p_R, ...</td>\n",
       "      <td>61.319549</td>\n",
       "    </tr>\n",
       "    <tr>\n",
       "      <th>24</th>\n",
       "      <td>[(anion_X, anion_IE, A_IE, A_s_R, A_p_R, A_d_R...</td>\n",
       "      <td>61.694696</td>\n",
       "    </tr>\n",
       "  </tbody>\n",
       "</table>\n",
       "</div>"
      ],
      "text/plain": [
       "                                          combination  sum of correlation\n",
       "7   [(anion_X, anion_IE, A_X, A_IE, A_s_R, A_p_R, ...           60.250576\n",
       "18  [(anion_X, anion_IE, A_X, A_IE, A_s_R, A_p_R, ...           61.274034\n",
       "6   [(anion_X, anion_IE, A_X, A_IE, A_s_R, A_p_R, ...           61.290807\n",
       "5   [(anion_X, anion_IE, A_X, A_IE, A_s_R, A_p_R, ...           61.319549\n",
       "24  [(anion_X, anion_IE, A_IE, A_s_R, A_p_R, A_d_R...           61.694696"
      ]
     },
     "execution_count": 5,
     "metadata": {},
     "output_type": "execute_result"
    }
   ],
   "source": [
    "least_corr_list"
   ]
  },
  {
   "cell_type": "code",
   "execution_count": null,
   "metadata": {},
   "outputs": [],
   "source": []
  }
 ],
 "metadata": {
  "kernelspec": {
   "display_name": "Python 3",
   "language": "python",
   "name": "python3"
  },
  "language_info": {
   "codemirror_mode": {
    "name": "ipython",
    "version": 3
   },
   "file_extension": ".py",
   "mimetype": "text/x-python",
   "name": "python",
   "nbconvert_exporter": "python",
   "pygments_lexer": "ipython3",
   "version": "3.6.4"
  }
 },
 "nbformat": 4,
 "nbformat_minor": 2
}
