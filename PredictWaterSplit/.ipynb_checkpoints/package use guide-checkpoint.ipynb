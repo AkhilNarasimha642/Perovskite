{
 "cells": [
  {
   "cell_type": "code",
   "execution_count": 29,
   "metadata": {},
   "outputs": [
    {
     "name": "stderr",
     "output_type": "stream",
     "text": [
      "D:\\software\\minicondam3\\envs\\keras\\lib\\site-packages\\pandas\\core\\indexing.py:194: SettingWithCopyWarning: \n",
      "A value is trying to be set on a copy of a slice from a DataFrame\n",
      "\n",
      "See the caveats in the documentation: http://pandas.pydata.org/pandas-docs/stable/indexing.html#indexing-view-versus-copy\n",
      "  self._setitem_with_indexer(indexer, value)\n"
     ]
    }
   ],
   "source": [
    "import pandas as pd\n",
    "from KRRcode import open_database\n",
    "from NNcode import screen_3criteria as sc\n",
    "from NNcode import first_screening as fs\n",
    "from NNcode import prediction_watersplitting\n",
    "import numpy as np\n",
    "\n",
    "perovskite,values,data_total=open_database.read_database() #3 dataframe\n",
    "screening_data=sc.screening(data_total)                    #23 data after screening\n",
    "\n",
    "data_total['water_splitting']=None \n",
    "for i in screening_data.index:\n",
    "    data_total['water_splitting'].iloc[i-1]=1\n"
   ]
  },
  {
   "cell_type": "code",
   "execution_count": 13,
   "metadata": {},
   "outputs": [],
   "source": [
    "#Input a new molecule:\n",
    "anion='O2N'\n",
    "A_ion='Ca'\n",
    "B_ion='Nb'\n",
    "volume=1.1\n",
    "mass=32\n",
    "    \n",
    "your_data,comment=fs.input_screening(A_ion,B_ion,anion,mass,volume)"
   ]
  },
  {
   "cell_type": "code",
   "execution_count": 14,
   "metadata": {},
   "outputs": [
    {
     "data": {
      "text/html": [
       "<div>\n",
       "<style scoped>\n",
       "    .dataframe tbody tr th:only-of-type {\n",
       "        vertical-align: middle;\n",
       "    }\n",
       "\n",
       "    .dataframe tbody tr th {\n",
       "        vertical-align: top;\n",
       "    }\n",
       "\n",
       "    .dataframe thead th {\n",
       "        text-align: right;\n",
       "    }\n",
       "</style>\n",
       "<table border=\"1\" class=\"dataframe\">\n",
       "  <thead>\n",
       "    <tr style=\"text-align: right;\">\n",
       "      <th></th>\n",
       "      <th>anion</th>\n",
       "      <th>anion_X</th>\n",
       "      <th>anion_IE</th>\n",
       "      <th>A_ion</th>\n",
       "      <th>A_X</th>\n",
       "      <th>A_IE</th>\n",
       "      <th>A_s_R</th>\n",
       "      <th>A_p_R</th>\n",
       "      <th>A_d_R</th>\n",
       "      <th>A_aff</th>\n",
       "      <th>...</th>\n",
       "      <th>B_R</th>\n",
       "      <th>X_A+B</th>\n",
       "      <th>X_A-B</th>\n",
       "      <th>IE_A+B</th>\n",
       "      <th>IE_A-B</th>\n",
       "      <th>aff_A+B</th>\n",
       "      <th>aff_A-B</th>\n",
       "      <th>A_R_max</th>\n",
       "      <th>B_R_max</th>\n",
       "      <th>standard_energy</th>\n",
       "    </tr>\n",
       "  </thead>\n",
       "  <tbody>\n",
       "    <tr>\n",
       "      <th>1</th>\n",
       "      <td>O2N</td>\n",
       "      <td>3.30666</td>\n",
       "      <td>13.92342</td>\n",
       "      <td>Ca</td>\n",
       "      <td>1.0</td>\n",
       "      <td>6.11316</td>\n",
       "      <td>183.9</td>\n",
       "      <td>0.0</td>\n",
       "      <td>0.0</td>\n",
       "      <td>0.02455</td>\n",
       "      <td>...</td>\n",
       "      <td>169.9</td>\n",
       "      <td>2.9</td>\n",
       "      <td>-0.9</td>\n",
       "      <td>13.83954</td>\n",
       "      <td>-1.61322</td>\n",
       "      <td>1.26033</td>\n",
       "      <td>-1.21123</td>\n",
       "      <td>183.9</td>\n",
       "      <td>137.4</td>\n",
       "      <td>None</td>\n",
       "    </tr>\n",
       "  </tbody>\n",
       "</table>\n",
       "<p>1 rows × 31 columns</p>\n",
       "</div>"
      ],
      "text/plain": [
       "  anion  anion_X  anion_IE A_ion  A_X     A_IE  A_s_R  A_p_R  A_d_R    A_aff  \\\n",
       "1   O2N  3.30666  13.92342    Ca  1.0  6.11316  183.9    0.0    0.0  0.02455   \n",
       "\n",
       "        ...           B_R  X_A+B  X_A-B    IE_A+B   IE_A-B  aff_A+B  aff_A-B  \\\n",
       "1       ...         169.9    2.9   -0.9  13.83954 -1.61322  1.26033 -1.21123   \n",
       "\n",
       "   A_R_max  B_R_max  standard_energy  \n",
       "1    183.9    137.4             None  \n",
       "\n",
       "[1 rows x 31 columns]"
      ]
     },
     "execution_count": 14,
     "metadata": {},
     "output_type": "execute_result"
    }
   ],
   "source": [
    "your_data"
   ]
  },
  {
   "cell_type": "code",
   "execution_count": 15,
   "metadata": {},
   "outputs": [
    {
     "data": {
      "text/plain": [
       "'Yes,it can do water-slpitting'"
      ]
     },
     "execution_count": 15,
     "metadata": {},
     "output_type": "execute_result"
    }
   ],
   "source": [
    "comment"
   ]
  },
  {
   "cell_type": "code",
   "execution_count": 16,
   "metadata": {},
   "outputs": [
    {
     "data": {
      "text/plain": [
       "<keras.models.Sequential at 0x20e3a1c9940>"
      ]
     },
     "execution_count": 16,
     "metadata": {},
     "output_type": "execute_result"
    }
   ],
   "source": [
    "prediction_watersplitting.model()"
   ]
  },
  {
   "cell_type": "code",
   "execution_count": 22,
   "metadata": {},
   "outputs": [],
   "source": [
    "if comment=='The molecule is not in our database, so we need to predict':\n",
    "        prediction_watersplitting.model()\n",
    "        heat_of_formation=prediction_watersplitting.prediction_hof(data_total,your_data)\n",
    "        VB_dir=prediction_watersplitting.prediction_on_dir_VB(data_total,your_data)\n",
    "        CB_dir=prediction_watersplitting.prediction_on_dir_CB(data_total,your_data)\n",
    "        VB_ind=prediction_watersplitting.prediction_on_indir_VB(data_total,your_data)\n",
    "        CB_ind=prediction_watersplitting.prediction_on_indir_CB(data_total,your_data)\n",
    "        gllbsc_dir_gap=CB_dir-VB_dir\n",
    "        gllbsc_ind_gap=CB_ind-VB_ind\n",
    "        E0=-4.5\n",
    "        if (heat_of_formation<=0.21) & (gllbsc_ind_gap >= 1.4) & (gllbsc_ind_gap <= 3.1)& (CB_ind <= 0 - E0) & (VB_ind >= 1.23 - E0) | (gllbsc_dir_gap >= 1.4) & (gllbsc_dir_gap <= 3.1) & (CB_dir <= 0 - E0) & (VB_dir >= 1.23 - E0):\n",
    "            comment2='Yes,it can do water-slpitting'\n",
    "        else:\n",
    "            comment2='No,it can\\'t do water-splitting.'"
   ]
  },
  {
   "cell_type": "code",
   "execution_count": null,
   "metadata": {},
   "outputs": [],
   "source": []
  }
 ],
 "metadata": {
  "kernelspec": {
   "display_name": "Python 3",
   "language": "python",
   "name": "python3"
  },
  "language_info": {
   "codemirror_mode": {
    "name": "ipython",
    "version": 3
   },
   "file_extension": ".py",
   "mimetype": "text/x-python",
   "name": "python",
   "nbconvert_exporter": "python",
   "pygments_lexer": "ipython3",
   "version": "3.6.4"
  }
 },
 "nbformat": 4,
 "nbformat_minor": 2
}
