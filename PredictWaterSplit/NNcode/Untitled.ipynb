{
 "cells": [
  {
   "cell_type": "code",
   "execution_count": null,
   "metadata": {},
   "outputs": [],
   "source": [
    "# coding: utf-8\n",
    "\n",
    "# In[3]:\n",
    "\n",
    "\n",
    "import pandas as pd\n",
    "from KRRcode import open_database\n",
    "from NNcode import screen_3criteria as sc\n",
    "perovskite,values,data_total=open_database.read_database() #3 dataframe\n",
    "screening_data=sc.screening(data_total)                    #23 data after screening\n",
    "\n",
    "data_total['water_splitting']=None\n",
    "for i in screening_data.index:\n",
    "    data_total['water_splitting'].iloc[i-1]=1\n",
    "    \n",
    "electroneg = pd.read_csv('Data/electronegativity.csv')\n"
   ]
  },
  {
   "cell_type": "code",
   "execution_count": null,
   "metadata": {},
   "outputs": [],
   "source": [
    "def input_screening(A_ion,B_ion,anion,mass,volume): \n",
    "    \n",
    "    your_data=pd.DataFrame(columns=['anion', 'anion_X', 'anion_IE', 'A_ion', 'A_X', 'A_IE', 'A_s_R','A_p_R', 'A_d_R', 'A_aff', \n",
    "                                    'B_ion', 'B_X', 'B_IE','B_s_R','B_p_R','B_d_R', 'B_aff','volume','mass','density', 'A_R', 'B_R','X_A+B','X_A-B',\n",
    "                                    'IE_A+B','IE_A-B','aff_A+B','aff_A-B','A_R_max','B_R_max','standard_energy'])\n",
    "    your_data['anion'] = anion\n",
    "    your_data['A_ion'] = A_ion\n",
    "    your_data['B_ion'] = B_ion\n",
    "    your_data['A_R']=your_data['A_s_R']+your_data['A_p_R']+your_data['A_d_R']\n",
    "    your_data['B_R']=your_data['B_s_R']+your_data['B_p_R']+your_data['B_d_R']\n",
    "    \n",
    "    your_data['X_A+B']=your_data['A_X']+your_data['B_X']\n",
    "    your_data['X_A-B']=your_data['A_X']-your_data['B_X']\n",
    "    your_data['IE_A+B']=your_data['A_IE']+your_data['B_IE']\n",
    "    your_data['IE_A-B']=your_data['A_IE']-your_data['B_IE']\n",
    "    your_data['aff_A+B']=your_data['A_aff']+your_data['B_aff']\n",
    "    your_data['aff_A-B']=your_data['A_aff']-your_data['B_aff']\n",
    "    your_data['A_R_max']=your_data[['A_s_R', 'A_p_R', 'A_d_R']].max(axis=1)\n",
    "    your_data['B_R_max']=your_data[['B_s_R', 'B_p_R', 'B_d_R']].max(axis=1)\n",
    "    your_data['volume']=volume\n",
    "    your_data['mass']=mass\n",
    "    your_data['density']=mass/volume\n",
    "    \n",
    "    \n",
    "    for i in range(len(data_total)):\n",
    "        if A_ion==data_total.iloc[i,:]['A_ion']:\n",
    "            if B_ion==data_total.iloc[i,:]['B_ion'] :\n",
    "                if anion==data_total.iloc[i,:]['anion']:\n",
    "                    if data_total.iloc[i,:]['water_splitting']==1:\n",
    "                        comment='Yes,it can do water-slpitting'\n",
    "                        return your_data,comment\n",
    "                        break\n",
    "                    else:\n",
    "                        comment='No,it can\\'t do water-splitting.'\n",
    "                        return your_data,comment\n",
    "                        break\n",
    "                else:\n",
    "                    continue\n",
    "            else: \n",
    "                continue\n",
    "        else:\n",
    "            continue\n",
    "        comment='The molecule is not in our database, so we need to predict'\n",
    "        return your_data,comment\n",
    "  "
   ]
  }
 ],
 "metadata": {
  "kernelspec": {
   "display_name": "Python 3",
   "language": "python",
   "name": "python3"
  },
  "language_info": {
   "codemirror_mode": {
    "name": "ipython",
    "version": 3
   },
   "file_extension": ".py",
   "mimetype": "text/x-python",
   "name": "python",
   "nbconvert_exporter": "python",
   "pygments_lexer": "ipython3",
   "version": "3.6.3"
  }
 },
 "nbformat": 4,
 "nbformat_minor": 2
}
