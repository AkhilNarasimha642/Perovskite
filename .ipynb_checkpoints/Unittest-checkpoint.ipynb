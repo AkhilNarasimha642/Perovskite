{
 "cells": [
  {
   "cell_type": "code",
   "execution_count": 24,
   "metadata": {},
   "outputs": [],
   "source": [
    "import pandas as pd\n",
    "import open_database\n",
    "import predictbyKRR\n",
    "import featureselect\n",
    "import outlier\n",
    "from sklearn.kernel_ridge import KernelRidge\n",
    "import numpy\n"
   ]
  },
  {
   "cell_type": "code",
   "execution_count": 7,
   "metadata": {},
   "outputs": [],
   "source": [
    "perovskite,values,data_total = open_database.read_database()\n",
    "traindata,testdata = predictbyKRR.build_data(data_total)"
   ]
  },
  {
   "cell_type": "code",
   "execution_count": 10,
   "metadata": {},
   "outputs": [],
   "source": [
    "def test_build_data():\n",
    "    traindata,testdata = predictbyKRR.build_data(data_total)\n",
    "    assert list(traindata.columns) == list(testdata.columns),'train test data not match'\n",
    "    return"
   ]
  },
  {
   "cell_type": "code",
   "execution_count": 21,
   "metadata": {},
   "outputs": [],
   "source": [
    "def test_krr_predict():\n",
    "    feature_list = ['anion_X', 'anion_IE', 'A_X', 'A_IE', 'A_aff', 'B_IE', 'B_aff', 'volume', 'mass', 'A_R', 'B_R', 'aff_A+B', 'aff_A-B', 'A_R_max', 'B_R_max']\n",
    "    krr = KernelRidge(alpha=1., kernel='polynomial',degree = 4)\n",
    "    predict_train, predict_test, mse_test, Rsquared_test, mse_train, Rsquared_train= predictbyKRR.krr_predict(feature_list,krr,traindata,testdata,'CB_ind')\n",
    "    assert Rsquared_test<=1. and Rsquared_train<=1.,'Wrong R squared scale'\n",
    "    assert mse_test<=1. and mse_train<=1.,'Wrong MSE scale'\n",
    "    assert len(predict_train)==len(traindata),'predict and true data not match'\n",
    "    assert len(predict_test)==len(testdata),'predict and true data not match'\n",
    "    assert type(predict_train)==numpy.ndarray,'Wrong predict type of train'\n",
    "    assert type(predict_test)==numpy.ndarray,'Wrong predict type of test'\n",
    "    return"
   ]
  },
  {
   "cell_type": "code",
   "execution_count": 12,
   "metadata": {},
   "outputs": [],
   "source": [
    "def test_predict_Band():\n",
    "    feature_list = ['anion_X', 'anion_IE', 'A_X', 'A_IE', 'A_aff', 'B_IE', 'B_aff', 'volume', 'mass', 'A_R', 'B_R', 'aff_A+B', 'aff_A-B', 'A_R_max', 'B_R_max']\n",
    "    predict_train,predict_test = predictbyKRR.predict_Band(feature_list,traindata,testdata,'CB_dir')\n",
    "    assert len(predict_train)==len(traindata),'predict and true data not match'\n",
    "    assert len(predict_test)==len(testdata),'predict and true data not match'\n",
    "    assert type(predict_train)==numpy.ndarray,'Wrong predict type of train'\n",
    "    assert type(predict_test)==numpy.ndarray,'Wrong predict type of test'\n",
    "    return"
   ]
  },
  {
   "cell_type": "code",
   "execution_count": 13,
   "metadata": {},
   "outputs": [],
   "source": [
    "test_build_data()"
   ]
  },
  {
   "cell_type": "code",
   "execution_count": 22,
   "metadata": {},
   "outputs": [],
   "source": [
    "test_krr_predict()"
   ]
  },
  {
   "cell_type": "code",
   "execution_count": 23,
   "metadata": {},
   "outputs": [
    {
     "name": "stdout",
     "output_type": "stream",
     "text": [
      "mse of test data: 0.06754547288037124\n",
      "mse of train data: 0.052056100123244194\n",
      "R-squared of test data: 0.7867355887349856\n",
      "R-squared of train data: 0.8239708756491352\n"
     ]
    }
   ],
   "source": [
    "test_predict_Band()"
   ]
  },
  {
   "cell_type": "code",
   "execution_count": 28,
   "metadata": {},
   "outputs": [],
   "source": [
    "def test_feature_select():\n",
    "    least_corr_list = featureselect.feature_select(perovskite,26)\n",
    "    assert type(least_corr_list)==pd.core.frame.DataFrame,'Wrong corr list type'\n",
    "    for i in range(0,4):\n",
    "        assert least_corr_list.iloc[i]<least_corr_list.iloc[i+1],'Wrong corr list'\n",
    "    return"
   ]
  },
  {
   "cell_type": "code",
   "execution_count": 29,
   "metadata": {},
   "outputs": [
    {
     "ename": "NameError",
     "evalue": "name 'itertools' is not defined",
     "output_type": "error",
     "traceback": [
      "\u001b[0;31m---------------------------------------------------------------------------\u001b[0m",
      "\u001b[0;31mNameError\u001b[0m                                 Traceback (most recent call last)",
      "\u001b[0;32m<ipython-input-29-aeda6c7cbee7>\u001b[0m in \u001b[0;36m<module>\u001b[0;34m()\u001b[0m\n\u001b[0;32m----> 1\u001b[0;31m \u001b[0mtest_feature_select\u001b[0m\u001b[0;34m(\u001b[0m\u001b[0;34m)\u001b[0m\u001b[0;34m\u001b[0m\u001b[0m\n\u001b[0m",
      "\u001b[0;32m<ipython-input-28-da26392c1e7f>\u001b[0m in \u001b[0;36mtest_feature_select\u001b[0;34m()\u001b[0m\n\u001b[1;32m      1\u001b[0m \u001b[0;32mdef\u001b[0m \u001b[0mtest_feature_select\u001b[0m\u001b[0;34m(\u001b[0m\u001b[0;34m)\u001b[0m\u001b[0;34m:\u001b[0m\u001b[0;34m\u001b[0m\u001b[0m\n\u001b[0;32m----> 2\u001b[0;31m     \u001b[0mleast_corr_list\u001b[0m \u001b[0;34m=\u001b[0m \u001b[0mfeatureselect\u001b[0m\u001b[0;34m.\u001b[0m\u001b[0mfeature_select\u001b[0m\u001b[0;34m(\u001b[0m\u001b[0mperovskite\u001b[0m\u001b[0;34m,\u001b[0m\u001b[0;36m26\u001b[0m\u001b[0;34m)\u001b[0m\u001b[0;34m\u001b[0m\u001b[0m\n\u001b[0m\u001b[1;32m      3\u001b[0m     \u001b[0;32massert\u001b[0m \u001b[0mtype\u001b[0m\u001b[0;34m(\u001b[0m\u001b[0mleast_corr_list\u001b[0m\u001b[0;34m)\u001b[0m\u001b[0;34m==\u001b[0m\u001b[0mpd\u001b[0m\u001b[0;34m.\u001b[0m\u001b[0mcore\u001b[0m\u001b[0;34m.\u001b[0m\u001b[0mframe\u001b[0m\u001b[0;34m.\u001b[0m\u001b[0mDataFrame\u001b[0m\u001b[0;34m,\u001b[0m\u001b[0;34m'Wrong corr list type'\u001b[0m\u001b[0;34m\u001b[0m\u001b[0m\n\u001b[1;32m      4\u001b[0m     \u001b[0;32mfor\u001b[0m \u001b[0mi\u001b[0m \u001b[0;32min\u001b[0m \u001b[0mrange\u001b[0m\u001b[0;34m(\u001b[0m\u001b[0;36m0\u001b[0m\u001b[0;34m,\u001b[0m\u001b[0;36m4\u001b[0m\u001b[0;34m)\u001b[0m\u001b[0;34m:\u001b[0m\u001b[0;34m\u001b[0m\u001b[0m\n\u001b[1;32m      5\u001b[0m         \u001b[0;32massert\u001b[0m \u001b[0mleast_corr_list\u001b[0m\u001b[0;34m.\u001b[0m\u001b[0miloc\u001b[0m\u001b[0;34m[\u001b[0m\u001b[0mi\u001b[0m\u001b[0;34m]\u001b[0m\u001b[0;34m<\u001b[0m\u001b[0mleast_corr_list\u001b[0m\u001b[0;34m.\u001b[0m\u001b[0miloc\u001b[0m\u001b[0;34m[\u001b[0m\u001b[0mi\u001b[0m\u001b[0;34m+\u001b[0m\u001b[0;36m1\u001b[0m\u001b[0;34m]\u001b[0m\u001b[0;34m,\u001b[0m\u001b[0;34m'Wrong corr list'\u001b[0m\u001b[0;34m\u001b[0m\u001b[0m\n",
      "\u001b[0;32m~/Documents/DIRECT/Perovskite/featureselect.py\u001b[0m in \u001b[0;36mfeature_select\u001b[0;34m(perovskite, n)\u001b[0m\n\u001b[1;32m      8\u001b[0m     \u001b[0mfeatures\u001b[0m \u001b[0;34m=\u001b[0m \u001b[0mlist\u001b[0m\u001b[0;34m(\u001b[0m\u001b[0mdata_combine\u001b[0m\u001b[0;34m.\u001b[0m\u001b[0mcolumns\u001b[0m\u001b[0;34m)\u001b[0m\u001b[0;34m\u001b[0m\u001b[0m\n\u001b[1;32m      9\u001b[0m     \u001b[0mcorrlist\u001b[0m \u001b[0;34m=\u001b[0m \u001b[0;34m[\u001b[0m\u001b[0;34m]\u001b[0m\u001b[0;34m\u001b[0m\u001b[0m\n\u001b[0;32m---> 10\u001b[0;31m     \u001b[0mcombine\u001b[0m \u001b[0;34m=\u001b[0m \u001b[0;34m[\u001b[0m\u001b[0;34m]\u001b[0m\u001b[0;34m\u001b[0m\u001b[0m\n\u001b[0m\u001b[1;32m     11\u001b[0m     \u001b[0;32mfor\u001b[0m \u001b[0mr\u001b[0m \u001b[0;32min\u001b[0m \u001b[0mitertools\u001b[0m\u001b[0;34m.\u001b[0m\u001b[0mcombinations\u001b[0m\u001b[0;34m(\u001b[0m\u001b[0mfeatures\u001b[0m\u001b[0;34m,\u001b[0m\u001b[0mn\u001b[0m\u001b[0;34m)\u001b[0m\u001b[0;34m:\u001b[0m\u001b[0;34m\u001b[0m\u001b[0m\n\u001b[1;32m     12\u001b[0m         \u001b[0msum_corr\u001b[0m \u001b[0;34m=\u001b[0m \u001b[0;36m0.\u001b[0m\u001b[0;34m\u001b[0m\u001b[0m\n",
      "\u001b[0;31mNameError\u001b[0m: name 'itertools' is not defined"
     ]
    }
   ],
   "source": [
    "test_feature_select()"
   ]
  },
  {
   "cell_type": "code",
   "execution_count": null,
   "metadata": {},
   "outputs": [],
   "source": []
  }
 ],
 "metadata": {
  "kernelspec": {
   "display_name": "Python 3",
   "language": "python",
   "name": "python3"
  },
  "language_info": {
   "codemirror_mode": {
    "name": "ipython",
    "version": 3
   },
   "file_extension": ".py",
   "mimetype": "text/x-python",
   "name": "python",
   "nbconvert_exporter": "python",
   "pygments_lexer": "ipython3",
   "version": "3.6.4"
  }
 },
 "nbformat": 4,
 "nbformat_minor": 2
}
